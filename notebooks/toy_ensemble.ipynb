{
 "cells": [
  {
   "cell_type": "markdown",
   "metadata": {},
   "source": [
    "# Model Ensemble: Toy example"
   ]
  },
  {
   "cell_type": "markdown",
   "metadata": {},
   "source": [
    "1. The goal of this exercise is to combine different models and get uncertainty of estimates using an **ensemble model**.\n",
    "2. We predict the median LE (data = `LA_uncertainty.dta`) just to simplify. \n",
    "3. We use three different regression models: Ridge, Random Forest, K-Neighbors. We can include others later (e.g., logistic or boxcox.\n",
    "4. The estimate is the first different in LE of increasing GDP by one standard deviation. "
   ]
  },
  {
   "cell_type": "code",
   "execution_count": 613,
   "metadata": {},
   "outputs": [],
   "source": [
    "# load packages\n",
    "from sklearn.base import TransformerMixin\n",
    "from sklearn.datasets import make_regression\n",
    "from sklearn.pipeline import Pipeline, FeatureUnion\n",
    "from sklearn.model_selection import train_test_split\n",
    "from sklearn.ensemble import RandomForestRegressor\n",
    "from sklearn.neighbors import KNeighborsRegressor\n",
    "from sklearn.preprocessing import StandardScaler, PolynomialFeatures\n",
    "from sklearn.linear_model import LinearRegression, Ridge\n",
    "from sklearn.utils import resample\n",
    "import sklearn.metrics as met\n",
    "import numpy as np\n",
    "import pandas as pd\n",
    "from sklearn_pandas import DataFrameMapper, cross_val_score\n",
    "from utils import utils as f # my functions\n",
    "import matplotlib.pyplot as plt\n",
    "import seaborn as sns\n",
    "sns.set(color_codes=True)\n",
    "%matplotlib inline"
   ]
  },
  {
   "cell_type": "markdown",
   "metadata": {},
   "source": [
    "Here it is the definition classes and models:"
   ]
  },
  {
   "cell_type": "code",
   "execution_count": 628,
   "metadata": {},
   "outputs": [],
   "source": [
    "# define model transformers\n",
    "\n",
    "# class LinearTransformer(LinearRegression, TransformerMixin):\n",
    "\n",
    "#     def transform(self, X, *_):\n",
    "#         return self.predict(X).reshape(-1,1)\n",
    "    \n",
    "class RidgeTransformer(Ridge, TransformerMixin):\n",
    "\n",
    "    def transform(self, X, *_):\n",
    "        return self.predict(X).reshape(-1,1)\n",
    "\n",
    "class RandomForestTransformer(RandomForestRegressor, TransformerMixin):\n",
    "\n",
    "    def transform(self, X, *_):\n",
    "        return self.predict(X).reshape(-1,1)\n",
    "\n",
    "class KNeighborsTransformer(KNeighborsRegressor, TransformerMixin):\n",
    "\n",
    "    def transform(self, X, *_):\n",
    "        return self.predict(X).reshape(-1,1)"
   ]
  },
  {
   "cell_type": "markdown",
   "metadata": {},
   "source": [
    "We combine predictions generated from these models and use them to **predict** the actual outcome (for now the median of LE, a fixed valued). We weight those predictions using linear regression, although we could use any other model (e.g., random forest, xgboost). For now, let's keep it simple. \n",
    "\n",
    "- For Ridge regression, GDP is first standardized, and then polynomial transformations of features were computed.\n",
    "- Random Forest and K-Neighbors use the default set up. "
   ]
  },
  {
   "cell_type": "code",
   "execution_count": 650,
   "metadata": {},
   "outputs": [],
   "source": [
    "# function to create model\n",
    "def build_model():\n",
    "\n",
    "#     linear_regression = Pipeline(steps=[\n",
    "#         ('scaler', StandardScaler()),\n",
    "#         ('linear', LinearTransformer())\n",
    "#     ])\n",
    "\n",
    "    ridge_transformer = Pipeline(steps=[\n",
    "        ('scaler', StandardScaler()),\n",
    "        ('poly_feats', PolynomialFeatures()),\n",
    "        ('ridge', RidgeTransformer())\n",
    "    ])\n",
    "    \n",
    "    pred_union = FeatureUnion(\n",
    "        transformer_list=[\n",
    "#             ('linear_reg', linear_regression),\n",
    "            ('ridge', ridge_transformer),\n",
    "            ('rand_forest', RandomForestTransformer()),\n",
    "            ('knn', KNeighborsTransformer())\n",
    "        ],\n",
    "    )\n",
    "\n",
    "    # return combination of predictions\n",
    "    model = Pipeline(steps=[\n",
    "        ('pred_union', pred_union),\n",
    "        ('lin_regr', LinearRegression()) # linear combination\n",
    "    ])\n",
    "\n",
    "    return model"
   ]
  },
  {
   "cell_type": "markdown",
   "metadata": {},
   "source": [
    "# Run an individual example"
   ]
  },
  {
   "cell_type": "code",
   "execution_count": 651,
   "metadata": {},
   "outputs": [],
   "source": [
    "# read the data\n",
    "df = pd.read_stata('../data/LA_uncertainty.dta')"
   ]
  },
  {
   "cell_type": "code",
   "execution_count": 652,
   "metadata": {},
   "outputs": [],
   "source": [
    "# df = pd.read_stata('../data/LA_uncertainty_2016.dta')"
   ]
  },
  {
   "cell_type": "code",
   "execution_count": 653,
   "metadata": {},
   "outputs": [
    {
     "data": {
      "text/plain": [
       "(383, 56)"
      ]
     },
     "execution_count": 653,
     "metadata": {},
     "output_type": "execute_result"
    }
   ],
   "source": [
    "df.shape"
   ]
  },
  {
   "cell_type": "code",
   "execution_count": 654,
   "metadata": {},
   "outputs": [],
   "source": [
    "# select variables\n",
    "df = df.loc[:, ['year', 'ctry', 'gdp_pc', 'median']]"
   ]
  },
  {
   "cell_type": "code",
   "execution_count": 655,
   "metadata": {},
   "outputs": [
    {
     "data": {
      "text/plain": [
       "gdp_pc    0.101828\n",
       "median    0.002611\n",
       "dtype: float64"
      ]
     },
     "execution_count": 655,
     "metadata": {},
     "output_type": "execute_result"
    }
   ],
   "source": [
    "# some missing data\n",
    "f.missing_data(df)"
   ]
  },
  {
   "cell_type": "code",
   "execution_count": 656,
   "metadata": {},
   "outputs": [],
   "source": [
    "# remove missing data"
   ]
  },
  {
   "cell_type": "code",
   "execution_count": 657,
   "metadata": {},
   "outputs": [
    {
     "data": {
      "text/plain": [
       "(343, 4)"
      ]
     },
     "execution_count": 657,
     "metadata": {},
     "output_type": "execute_result"
    }
   ],
   "source": [
    "df = df.dropna()\n",
    "df.shape # very small dataset"
   ]
  },
  {
   "cell_type": "code",
   "execution_count": 658,
   "metadata": {},
   "outputs": [],
   "source": [
    "# slected features\n",
    "X, y = df['gdp_pc'].as_matrix().reshape(-1, 1), df['median'].as_matrix()\n",
    "\n",
    "# define training set\n",
    "X_train, X_test, y_train, y_test = train_test_split(X, \n",
    "                                                    y, \n",
    "                                                    test_size=0.20, \n",
    "                                                    stratify=df.ctry)"
   ]
  },
  {
   "cell_type": "code",
   "execution_count": 659,
   "metadata": {},
   "outputs": [
    {
     "data": {
      "text/plain": [
       "Pipeline(memory=None,\n",
       "     steps=[('pred_union', FeatureUnion(n_jobs=1,\n",
       "       transformer_list=[('ridge', Pipeline(memory=None,\n",
       "     steps=[('scaler', StandardScaler(copy=True, with_mean=True, with_std=True)), ('poly_feats', PolynomialFeatures(degree=2, include_bias=True, interaction_only=False)), ('ridge', RidgeTransformer(...=None)), ('lin_regr', LinearRegression(copy_X=True, fit_intercept=True, n_jobs=1, normalize=False))])"
      ]
     },
     "execution_count": 659,
     "metadata": {},
     "output_type": "execute_result"
    }
   ],
   "source": [
    "# instance of model and fit\n",
    "model = build_model()\n",
    "model.fit(X_train, y_train)"
   ]
  },
  {
   "cell_type": "code",
   "execution_count": 660,
   "metadata": {},
   "outputs": [],
   "source": [
    "# predictions \n",
    "pred_test = model.predict(X_test)\n",
    "pred_train = model.predict(X_train)"
   ]
  },
  {
   "cell_type": "code",
   "execution_count": 661,
   "metadata": {},
   "outputs": [
    {
     "name": "stdout",
     "output_type": "stream",
     "text": [
      "MSE training:  21.5221500256\n",
      "MSE test:  247.614787647\n"
     ]
    }
   ],
   "source": [
    "# overfitting in action\n",
    "print('MSE training: ', str(met.mean_squared_error(y_train, pred_train)))\n",
    "print('MSE test: ', str(met.mean_squared_error(y_test, pred_test)))"
   ]
  },
  {
   "cell_type": "code",
   "execution_count": 662,
   "metadata": {},
   "outputs": [],
   "source": [
    "# counterfactual and first difference"
   ]
  },
  {
   "cell_type": "code",
   "execution_count": 663,
   "metadata": {},
   "outputs": [
    {
     "name": "stdout",
     "output_type": "stream",
     "text": [
      "Mean first difference:  12.901770499\n"
     ]
    }
   ],
   "source": [
    "X_train_cf = X_train + np.std(X_train) # + 1 SD GDP\n",
    "pred_train_cf = model.predict(X_train_cf)\n",
    "print('Mean first difference: ', str(np.mean(pred_train_cf - pred_train)))"
   ]
  },
  {
   "cell_type": "markdown",
   "metadata": {},
   "source": [
    "# Uncertainty"
   ]
  },
  {
   "cell_type": "markdown",
   "metadata": {},
   "source": [
    "The easiest way to do it is to bootstrap estimates of the **first difference**. \n",
    "\n",
    "Below, pretty straightforward function to do it."
   ]
  },
  {
   "cell_type": "code",
   "execution_count": 664,
   "metadata": {},
   "outputs": [],
   "source": [
    "# bootstrap function\n",
    "def bootstrap(estimator, X, y, samples=1000, sample_size=.70): \n",
    "    \n",
    "    # list to save results\n",
    "    stats = []\n",
    "    nrows = y.shape[0]\n",
    "    \n",
    "    # loop\n",
    "    for s in range(0, samples):\n",
    "        idx = np.random.choice(nrows, int(len(y)*sample_size), replace=True)\n",
    "        ty = y[idx]\n",
    "        tX = X[idx]\n",
    "        \n",
    "        model.fit(tX, ty)\n",
    "        pred = model.predict(tX)\n",
    "        pred_cf = model.predict(tX + np.std(tX))\n",
    "        stats.append(np.mean(pred_cf-pred))\n",
    "    return stats"
   ]
  },
  {
   "cell_type": "code",
   "execution_count": 665,
   "metadata": {},
   "outputs": [],
   "source": [
    "estimates = bootstrap(model, X_train, y_train, samples=2000, sample_size=0.50)"
   ]
  },
  {
   "cell_type": "code",
   "execution_count": 667,
   "metadata": {},
   "outputs": [
    {
     "data": {
      "image/png": "[encoded data removed]",
      "text/plain": [
       "<matplotlib.figure.Figure at 0x113a15400>"
      ]
     },
     "metadata": {},
     "output_type": "display_data"
    }
   ],
   "source": [
    "sns.distplot(estimates)\n",
    "plt.title('Distribution of first difference LE (1 SD change in GDP) \\n2000 iterations')\n",
    "plt.xlabel('Years');"
   ]
  },
  {
   "cell_type": "code",
   "execution_count": null,
   "metadata": {},
   "outputs": [],
   "source": []
  }
 ],
 "metadata": {
  "kernelspec": {
   "display_name": "Python [default]",
   "language": "python",
   "name": "python3"
  },
  "language_info": {
   "codemirror_mode": {
    "name": "ipython",
    "version": 3
   },
   "file_extension": ".py",
   "mimetype": "text/x-python",
   "name": "python",
   "nbconvert_exporter": "python",
   "pygments_lexer": "ipython3",
   "version": "3.6.1"
  }
 },
 "nbformat": 4,
 "nbformat_minor": 2
}
