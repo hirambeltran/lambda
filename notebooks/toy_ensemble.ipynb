{
 "cells": [
  {
   "cell_type": "markdown",
   "metadata": {},
   "source": [
    "# Model Ensemble: Toy example"
   ]
  },
  {
   "cell_type": "code",
   "execution_count": 41,
   "metadata": {},
   "outputs": [],
   "source": [
    "# load libraries\n",
    "\n",
    "from sklearn.base import TransformerMixin\n",
    "from sklearn.datasets import make_regression\n",
    "from sklearn.pipeline import Pipeline, FeatureUnion\n",
    "from sklearn.model_selection import train_test_split\n",
    "from sklearn.ensemble import RandomForestRegressor\n",
    "from sklearn.neighbors import KNeighborsRegressor\n",
    "from sklearn.preprocessing import StandardScaler, PolynomialFeatures\n",
    "from sklearn.linear_model import LinearRegression, Ridge\n",
    "import sklearn.metrics as met\n",
    "import numpy as np"
   ]
  },
  {
   "cell_type": "markdown",
   "metadata": {},
   "source": [
    "I use three different regression models: rigde, random forest, and k-neighbors. "
   ]
  },
  {
   "cell_type": "code",
   "execution_count": 225,
   "metadata": {},
   "outputs": [],
   "source": [
    "# define model transformers\n",
    "class RidgeTransformer(Ridge, TransformerMixin):\n",
    "\n",
    "    def transform(self, X, *_):\n",
    "        return self.predict(X).reshape(-1, 1)\n",
    "\n",
    "class RandomForestTransformer(RandomForestRegressor, TransformerMixin):\n",
    "\n",
    "    def transform(self, X, *_):\n",
    "        return self.predict(X).reshape(-1, 1)\n",
    "\n",
    "class KNeighborsTransformer(KNeighborsRegressor, TransformerMixin):\n",
    "\n",
    "    def transform(self, X, *_):\n",
    "        return self.predict(X).reshape(-1, 1)"
   ]
  },
  {
   "cell_type": "markdown",
   "metadata": {},
   "source": [
    "I combine predictions generated from these models and use them to **predict** the actual outcome. I weight those predictions using linear regression, although I could use any other model (e.g., random forest, xgboost). That one is the actual ensemble. "
   ]
  },
  {
   "cell_type": "code",
   "execution_count": 217,
   "metadata": {},
   "outputs": [],
   "source": [
    "# function to create model\n",
    "def build_model():\n",
    "    \n",
    "    ridge_transformer = Pipeline(steps=[\n",
    "        ('scaler', StandardScaler()),\n",
    "        ('poly_feats', PolynomialFeatures()),\n",
    "        ('ridge', RidgeTransformer())\n",
    "    ])\n",
    "\n",
    "    pred_union = FeatureUnion(\n",
    "        transformer_list=[\n",
    "            ('ridge', ridge_transformer),\n",
    "            ('rand_forest', RandomForestTransformer()),\n",
    "            ('knn', KNeighborsTransformer())\n",
    "        ],\n",
    "    )\n",
    "\n",
    "    # return combination of predictions\n",
    "    model = Pipeline(steps=[\n",
    "        ('pred_union', pred_union),\n",
    "        ('lin_regr', LinearRegression()) # linear combination\n",
    "    ])\n",
    "\n",
    "    return model"
   ]
  },
  {
   "cell_type": "markdown",
   "metadata": {},
   "source": [
    "# Run an example"
   ]
  },
  {
   "cell_type": "code",
   "execution_count": 219,
   "metadata": {},
   "outputs": [],
   "source": [
    "model = build_model()\n",
    "\n",
    "X, y = make_regression(n_features=10, n_targets=1)\n",
    "X_train, X_test, y_train, y_test = train_test_split(X, y, test_size=0.2)"
   ]
  },
  {
   "cell_type": "code",
   "execution_count": 220,
   "metadata": {},
   "outputs": [
    {
     "data": {
      "text/plain": [
       "Pipeline(memory=None,\n",
       "     steps=[('pred_union', FeatureUnion(n_jobs=1,\n",
       "       transformer_list=[('ridge', Pipeline(memory=None,\n",
       "     steps=[('scaler', StandardScaler(copy=True, with_mean=True, with_std=True)), ('poly_feats', PolynomialFeatures(degree=2, include_bias=True, interaction_only=False)), ('ridge', RidgeTransformer(...=None)), ('lin_regr', LinearRegression(copy_X=True, fit_intercept=True, n_jobs=1, normalize=False))])"
      ]
     },
     "execution_count": 220,
     "metadata": {},
     "output_type": "execute_result"
    }
   ],
   "source": [
    "model.fit(X_train, y_train)"
   ]
  },
  {
   "cell_type": "code",
   "execution_count": 230,
   "metadata": {},
   "outputs": [],
   "source": [
    "pred = model.predict(X_test)"
   ]
  },
  {
   "cell_type": "code",
   "execution_count": 228,
   "metadata": {},
   "outputs": [
    {
     "data": {
      "text/plain": [
       "932.46628676976309"
      ]
     },
     "execution_count": 228,
     "metadata": {},
     "output_type": "execute_result"
    }
   ],
   "source": [
    "met.mean_squared_error(y_test, pred)"
   ]
  },
  {
   "cell_type": "markdown",
   "metadata": {},
   "source": [
    "This is the MSE ensembling and weighting the three models. "
   ]
  },
  {
   "cell_type": "markdown",
   "metadata": {},
   "source": [
    "Using this ensemble model, I can predict the counterfactual for different values of the variable of interest (e.g., GDP), and then estimate the **first difference**."
   ]
  },
  {
   "cell_type": "markdown",
   "metadata": {},
   "source": [
    "The keys are: \n",
    "\n",
    "- We can combine pretty easily any model we want\n",
    "- The combination weighting can very flexible (random forest, neural networks)\n",
    "- The meaning of the contrafactual though is not that clear"
   ]
  },
  {
   "cell_type": "markdown",
   "metadata": {},
   "source": [
    "# Uncertainty"
   ]
  },
  {
   "cell_type": "markdown",
   "metadata": {},
   "source": [
    "The easiest way to do it is to bootstrap the estimates for the first difference. "
   ]
  },
  {
   "cell_type": "markdown",
   "metadata": {},
   "source": [
    "I would do it when I have the data used in the paper. "
   ]
  },
  {
   "cell_type": "code",
   "execution_count": null,
   "metadata": {},
   "outputs": [],
   "source": []
  }
 ],
 "metadata": {
  "kernelspec": {
   "display_name": "Python [default]",
   "language": "python",
   "name": "python3"
  },
  "language_info": {
   "codemirror_mode": {
    "name": "ipython",
    "version": 3
   },
   "file_extension": ".py",
   "mimetype": "text/x-python",
   "name": "python",
   "nbconvert_exporter": "python",
   "pygments_lexer": "ipython3",
   "version": "3.6.1"
  }
 },
 "nbformat": 4,
 "nbformat_minor": 2
}
